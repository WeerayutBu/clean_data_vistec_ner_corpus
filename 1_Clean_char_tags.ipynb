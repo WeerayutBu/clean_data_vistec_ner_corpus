{
 "cells": [
  {
   "cell_type": "code",
   "execution_count": 1,
   "metadata": {},
   "outputs": [],
   "source": [
    "import pandas as pd\n",
    "import json\n",
    "from utils import *"
   ]
  },
  {
   "cell_type": "markdown",
   "metadata": {},
   "source": [
    "# Load Files"
   ]
  },
  {
   "cell_type": "code",
   "execution_count": 2,
   "metadata": {},
   "outputs": [],
   "source": [
    "# Read file\n",
    "data_csv  = pd.read_csv('./../pct_wn_first_lot.csv')\n",
    "read_file = open(\"./../ner_lot1_110520_num_word_192449_num_tag_20702.json\", \"r\")\n",
    "data_json = json.load(read_file)"
   ]
  },
  {
   "cell_type": "markdown",
   "metadata": {},
   "source": [
    "# Clean data"
   ]
  },
  {
   "cell_type": "code",
   "execution_count": 3,
   "metadata": {},
   "outputs": [
    {
     "data": {
      "text/plain": [
       "{'text': 'Sukishi สาขา Mega Bangna ตัวร้านจะอยู่โซน food walk ค่ะจะอยู่ใกล้ๆกับ star buck เลย ครั้งนี้มาตรงกับวันหยุด อืัอหือออคนอย่างแน่นเลยย ต้องรอคิวค่ะ วันนี้รอ3คิว ก็รอไม่นานแปปเดียว ตัวร้านที่สาขานี้ถือว่ากว้างมากๆเลยค่ะ จัดร้านดูโปร่งโล่งสบายด้วย ช่วงนี้มีเฮ  เพราะเค้าลดราคาสำหรับอาหารหลายๆชุดค่ะ ก็จัดมา1ชุด จำราคาไม่ได้ไม่แน่ใจว่า 799. หรือเปล่า อ้ะะะหิวมากก็จัดซะเลยย เนื้อนุ่มมากอร่อยด้วยคือดีคือฟินนนน ยิ่งเป็นเบคอนยิ่งอร่อยเลยค่ะ รสชาติหมูและความนุ่มยกให้สุกี้ชิเลย เครื่องดื่ม สั่งชามะนาวและโกโก้เฟรปเป้มา โกโก้รสชาติใช้ได้เลยค่ะ แต่หวานมากไปนิดนึง นึกถึงปิ้งย่างนึกถึง Sukishi เลยค่ะยกใจให้เลย',\n",
       " 'entities': [{'text': 'Sukishi',\n",
       "   'type': 'restaurant',\n",
       "   'start_idx': 0,\n",
       "   'end_idx': 7},\n",
       "  {'text': 'food', 'type': 'loc:others', 'start_idx': 42, 'end_idx': 46},\n",
       "  {'text': 'food walk', 'type': 'loc:others', 'start_idx': 42, 'end_idx': 51},\n",
       "  {'text': 'star buck', 'type': 'restaurant', 'start_idx': 70, 'end_idx': 79},\n",
       "  {'text': '799', 'type': 'cardinal', 'start_idx': 331, 'end_idx': 334},\n",
       "  {'text': '3', 'type': 'cardinal', 'start_idx': 154, 'end_idx': 155},\n",
       "  {'text': 'คิว', 'type': 'unit', 'start_idx': 155, 'end_idx': 158},\n",
       "  {'text': 'สุ กี้ ชิ',\n",
       "   'type': 'restaurant',\n",
       "   'start_idx': 459,\n",
       "   'end_idx': 466},\n",
       "  {'text': 'สุ กี้',\n",
       "   'type': 'food:ingredient',\n",
       "   'start_idx': 459,\n",
       "   'end_idx': 464},\n",
       "  {'text': 'เบ คอน',\n",
       "   'type': 'food:ingredient',\n",
       "   'start_idx': 413,\n",
       "   'end_idx': 418},\n",
       "  {'text': 'Sukishi', 'type': 'restaurant', 'start_idx': 575, 'end_idx': 582},\n",
       "  {'text': '1', 'type': 'cardinal', 'start_idx': 302, 'end_idx': 303},\n",
       "  {'text': 'ชุด', 'type': 'unit', 'start_idx': 303, 'end_idx': 306},\n",
       "  {'text': 'Bangna', 'type': 'district', 'start_idx': 18, 'end_idx': 24},\n",
       "  {'text': 'Mega', 'type': 'loc:others', 'start_idx': 13, 'end_idx': 17},\n",
       "  {'text': 'Mega Bangna',\n",
       "   'type': 'facility:other',\n",
       "   'start_idx': 13,\n",
       "   'end_idx': 24}]}"
      ]
     },
     "execution_count": 3,
     "metadata": {},
     "output_type": "execute_result"
    }
   ],
   "source": [
    "# Data \n",
    "tags_ne_json      = data_json\n",
    "segment_text      = data_csv['ssg']\n",
    "clean_text        = data_csv['text_clean']\n",
    "\n",
    "# Remove pipe\n",
    "clean_data        = remove_pipe(tags_ne_json, segment_text, clean_text)\n",
    "clean_data[0]"
   ]
  },
  {
   "cell_type": "markdown",
   "metadata": {},
   "source": [
    "# Save shift index JSON file"
   ]
  },
  {
   "cell_type": "code",
   "execution_count": 4,
   "metadata": {},
   "outputs": [],
   "source": [
    "with open('data_exam_clean_json_file.json', 'w') as json_file:\n",
    "    json.dump(clean_data, json_file)"
   ]
  },
  {
   "cell_type": "markdown",
   "metadata": {},
   "source": [
    "# Save cleaned data"
   ]
  },
  {
   "cell_type": "code",
   "execution_count": 5,
   "metadata": {},
   "outputs": [],
   "source": [
    "# Save Data\n",
    "fsentence = open('example_data_clean_char_src.txt', 'w')\n",
    "ftags     = open('example_data_clean_char_trg.txt', 'w')\n",
    "\n",
    "# Save cleaned data\n",
    "for idx, data in enumerate(clean_data):\n",
    "    text         = data['text']+'\\n'\n",
    "    \n",
    "    # Choose which one that you want to save all level or only top level\n",
    "#     tag_en     = get_ner_tags(data['entities'])                 # Save all level tags\n",
    "    tag_en     = get_ner_tags_top_level(data['entities'])       # Save top-level tags\n",
    "    \n",
    "    # Write file\n",
    "    fsentence.writelines(text)\n",
    "    ftags.writelines(tag_en)\n",
    "    \n",
    "fsentence.close()\n",
    "ftags.close()"
   ]
  },
  {
   "cell_type": "markdown",
   "metadata": {},
   "source": [
    "# Example cleaned data "
   ]
  },
  {
   "cell_type": "code",
   "execution_count": 6,
   "metadata": {},
   "outputs": [
    {
     "name": "stdout",
     "output_type": "stream",
     "text": [
      "Text:\n",
      "\tSukishi สาขา Mega Bangna ตัวร้านจะอยู่โซน food walk ค่ะจะอยู่ใกล้ๆกับ star buck เลย ครั้งนี้มาตรงกับวันหยุด อืัอหือออคนอย่างแน่นเลยย ต้องรอคิวค่ะ วันนี้รอ3คิว ก็รอไม่นานแปปเดียว ตัวร้านที่สาขานี้ถือว่ากว้างมากๆเลยค่ะ จัดร้านดูโปร่งโล่งสบายด้วย ช่วงนี้มีเฮ  เพราะเค้าลดราคาสำหรับอาหารหลายๆชุดค่ะ ก็จัดมา1ชุด จำราคาไม่ได้ไม่แน่ใจว่า 799. หรือเปล่า อ้ะะะหิวมากก็จัดซะเลยย เนื้อนุ่มมากอร่อยด้วยคือดีคือฟินนนน ยิ่งเป็นเบคอนยิ่งอร่อยเลยค่ะ รสชาติหมูและความนุ่มยกให้สุกี้ชิเลย เครื่องดื่ม สั่งชามะนาวและโกโก้เฟรปเป้มา โกโก้รสชาติใช้ได้เลยค่ะ แต่หวานมากไปนิดนึง นึกถึงปิ้งย่างนึกถึง Sukishi เลยค่ะยกใจให้เลย\n",
      "\n",
      "\n",
      "text                          \t\ttype                 start_idx <-> end_idx\n",
      "            \n",
      "Sukishi                        \t\trestaurant               0 <-> 7                    --Sukishi--\n",
      "Mega Bangna                    \t\tfacility:other          13 <-> 24                   --Mega Bangna--\n",
      "Bangna                         \t\tdistrict                18 <-> 24                   --Bangna--\n",
      "food walk                      \t\tloc:others              42 <-> 51                   --food walk--\n",
      "star buck                      \t\trestaurant              70 <-> 79                   --star buck--\n",
      "3                              \t\tcardinal               154 <-> 155                  --3--\n",
      "คิว                            \t\tunit                   155 <-> 158                  --คิว--\n",
      "1                              \t\tcardinal               302 <-> 303                  --1--\n",
      "ชุด                            \t\tunit                   303 <-> 306                  --ชุด--\n",
      "799                            \t\tcardinal               331 <-> 334                  --799--\n",
      "เบ คอน                         \t\tfood:ingredient        413 <-> 418                  --เบคอน--\n",
      "สุ กี้ ชิ                      \t\trestaurant             459 <-> 466                  --สุกี้ชิ--\n",
      "Sukishi                        \t\trestaurant             575 <-> 582                  --Sukishi--\n",
      "\n",
      "\n"
     ]
    }
   ],
   "source": [
    "for sentence in clean_data[0:1]:\n",
    "    check_sentence(sentence)"
   ]
  },
  {
   "cell_type": "markdown",
   "metadata": {},
   "source": [
    "# Data before clean"
   ]
  },
  {
   "cell_type": "code",
   "execution_count": 7,
   "metadata": {},
   "outputs": [
    {
     "data": {
      "text/plain": [
       "[{'text': 'Sukishi  สา ขา Mega Bangna  ตัว ร้าน จะ อยู่ โซน  food walk  ค่ะ จะ อยู่ ใกล้ ๆ กับ  star buck  เลย  ครั้ง นี้ มา ตรง กับ วัน หยุด  อืัอ หือ ออ คน อย่าง แน่น เลย ย  ต้อง รอ คิว ค่ะ  วัน นี้ รอ3 คิว  ก็ รอ ไม่ นาน แปป เดียว  ตัว ร้าน ที่ สา ขา นี้ ถือ ว่า กว้าง มาก ๆ เลย ค่ะ  จัด ร้าน ดู โปร่ง โล่ง สบาย ด้วย  ช่วง นี้ มี เฮ    เพราะ เค้า ลด รา คา สำ หรับ อา หาร หลาย ๆ ชุด ค่ะ  ก็ จัด มา1 ชุด  จำ รา คา ไม่ ได้ ไม่ แน่ ใจ ว่า  799.  หรือ เปล่า  อ้ะ ะะ หิว มาก ก็ จัด ซะ เลย ย  เนื้อ นุ่ม มาก อร่อย ด้วย คือ ดี คือ ฟิน นน น  ยิ่ง เป็น เบ คอน ยิ่ง อร่อย เลย ค่ะ  รส ชาติ หมู และ ความ นุ่ม ยก ให้ สุ กี้ ชิ เลย  เครื่อง ดื่ม  สั่ง ชา มะ นาว และ โก โก้ เฟรป เป้ มา  โก โก้ รส ชาติ ใช้ ได้ เลย ค่ะ  แต่ หวาน มาก ไป นิด นึง  นึก ถึง ปิ้ง ย่าง นึก ถึง  Sukishi  เลย ค่ะ ยก ใจ ให้ เลย',\n",
       "  'entities': [{'text': 'Sukishi',\n",
       "    'type': 'restaurant',\n",
       "    'start_idx': 0,\n",
       "    'end_idx': 7},\n",
       "   {'text': 'food', 'type': 'loc:others', 'start_idx': 50, 'end_idx': 54},\n",
       "   {'text': 'food walk', 'type': 'loc:others', 'start_idx': 50, 'end_idx': 59},\n",
       "   {'text': 'star buck', 'type': 'restaurant', 'start_idx': 85, 'end_idx': 94},\n",
       "   {'text': '799', 'type': 'cardinal ', 'start_idx': 428, 'end_idx': 431},\n",
       "   {'text': '3', 'type': 'cardinal ', 'start_idx': 192, 'end_idx': 193},\n",
       "   {'text': 'คิว', 'type': 'unit', 'start_idx': 194, 'end_idx': 197},\n",
       "   {'text': 'สุ กี้ ชิ',\n",
       "    'type': 'restaurant',\n",
       "    'start_idx': 595,\n",
       "    'end_idx': 604},\n",
       "   {'text': 'สุ กี้',\n",
       "    'type': 'food:ingredient',\n",
       "    'start_idx': 595,\n",
       "    'end_idx': 601},\n",
       "   {'text': 'เบ คอน',\n",
       "    'type': 'food:ingredient',\n",
       "    'start_idx': 535,\n",
       "    'end_idx': 541},\n",
       "   {'text': 'Sukishi', 'type': 'restaurant', 'start_idx': 747, 'end_idx': 754},\n",
       "   {'text': '1', 'type': 'cardinal ', 'start_idx': 388, 'end_idx': 389},\n",
       "   {'text': 'ชุด', 'type': 'unit', 'start_idx': 390, 'end_idx': 393},\n",
       "   {'text': 'Bangna', 'type': 'district', 'start_idx': 20, 'end_idx': 26},\n",
       "   {'text': 'Mega', 'type': 'loc:others', 'start_idx': 15, 'end_idx': 19},\n",
       "   {'text': 'Mega Bangna',\n",
       "    'type': 'facility:other',\n",
       "    'start_idx': 15,\n",
       "    'end_idx': 26}]}]"
      ]
     },
     "execution_count": 7,
     "metadata": {},
     "output_type": "execute_result"
    }
   ],
   "source": [
    "data_json[0:1]"
   ]
  },
  {
   "cell_type": "code",
   "execution_count": null,
   "metadata": {},
   "outputs": [],
   "source": []
  },
  {
   "cell_type": "code",
   "execution_count": null,
   "metadata": {},
   "outputs": [],
   "source": []
  }
 ],
 "metadata": {
  "kernelspec": {
   "display_name": "Python [conda env:model]",
   "language": "python",
   "name": "conda-env-model-py"
  },
  "language_info": {
   "codemirror_mode": {
    "name": "ipython",
    "version": 3
   },
   "file_extension": ".py",
   "mimetype": "text/x-python",
   "name": "python",
   "nbconvert_exporter": "python",
   "pygments_lexer": "ipython3",
   "version": "3.7.7"
  }
 },
 "nbformat": 4,
 "nbformat_minor": 4
}
